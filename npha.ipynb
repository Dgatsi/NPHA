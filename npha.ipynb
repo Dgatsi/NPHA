{
  "nbformat": 4,
  "nbformat_minor": 0,
  "metadata": {
    "colab": {
      "provenance": [],
      "authorship_tag": "ABX9TyN8ow8vStQtrZkzeiuIwFwF",
      "include_colab_link": true
    },
    "kernelspec": {
      "name": "python3",
      "display_name": "Python 3"
    },
    "language_info": {
      "name": "python"
    }
  },
  "cells": [
    {
      "cell_type": "markdown",
      "metadata": {
        "id": "view-in-github",
        "colab_type": "text"
      },
      "source": [
        "<a href=\"https://colab.research.google.com/github/Dgatsi/NPHA/blob/main/npha.ipynb\" target=\"_parent\"><img src=\"https://colab.research.google.com/assets/colab-badge.svg\" alt=\"Open In Colab\"/></a>"
      ]
    },
    {
      "cell_type": "markdown",
      "source": [
        "\n",
        "\n",
        "*Prediction on* **National Poll on Healthy Aging (NPHA)** *using Diff. ML Algorithms*-\n",
        "* Log Reg\n",
        "* KNN\n",
        "* SVM\n",
        "* Decision Tree\n",
        "\n"
      ],
      "metadata": {
        "id": "kNtDCw-5MjCx"
      }
    },
    {
      "cell_type": "code",
      "execution_count": 162,
      "metadata": {
        "id": "ldmWhu0b72tE"
      },
      "outputs": [],
      "source": [
        "#IMPORTING LIBRARIES REQUIRED\n",
        "import pandas as pd\n",
        "from sklearn.model_selection import train_test_split\n",
        "from sklearn.preprocessing import StandardScaler\n",
        "from sklearn.linear_model import LogisticRegression\n",
        "from sklearn.neighbors import KNeighborsClassifier\n",
        "from sklearn.svm import SVC\n",
        "from sklearn.tree import DecisionTreeClassifier\n",
        "from sklearn.metrics import accuracy_score, classification_report, confusion_matrix\n",
        "import matplotlib.pyplot as plt\n",
        "import seaborn as sns\n",
        "from sklearn.tree import plot_tree"
      ]
    },
    {
      "cell_type": "code",
      "source": [
        "\n",
        "data = pd.read_csv('/content/NPHA-doctor-visits.csv')\n",
        "\n",
        "#to find top 5 rows and information in the given dataset respectively\n",
        "print(data.head())\n",
        "print(data.info())"
      ],
      "metadata": {
        "colab": {
          "base_uri": "https://localhost:8080/",
          "height": 0
        },
        "id": "ZYH_Q-fE75w3",
        "outputId": "1c19af46-5937-4ebc-b9d1-b6718089f934"
      },
      "execution_count": 163,
      "outputs": [
        {
          "output_type": "stream",
          "name": "stdout",
          "text": [
            "   Number of Doctors Visited  Age  Phyiscal Health  Mental Health  \\\n",
            "0                          3    2                4              3   \n",
            "1                          2    2                4              2   \n",
            "2                          3    2                3              2   \n",
            "3                          1    2                3              2   \n",
            "4                          3    2                3              3   \n",
            "\n",
            "   Dental Health  Employment  Stress Keeps Patient from Sleeping  \\\n",
            "0              3           3                                   0   \n",
            "1              3           3                                   1   \n",
            "2              3           3                                   0   \n",
            "3              3           3                                   0   \n",
            "4              3           3                                   1   \n",
            "\n",
            "   Medication Keeps Patient from Sleeping  Pain Keeps Patient from Sleeping  \\\n",
            "0                                       0                                 0   \n",
            "1                                       0                                 0   \n",
            "2                                       0                                 0   \n",
            "3                                       0                                 0   \n",
            "4                                       0                                 0   \n",
            "\n",
            "   Bathroom Needs Keeps Patient from Sleeping  \\\n",
            "0                                           0   \n",
            "1                                           1   \n",
            "2                                           0   \n",
            "3                                           1   \n",
            "4                                           0   \n",
            "\n",
            "   Uknown Keeps Patient from Sleeping  Trouble Sleeping  \\\n",
            "0                                   1                 2   \n",
            "1                                   0                 3   \n",
            "2                                   1                 3   \n",
            "3                                   0                 3   \n",
            "4                                   0                 2   \n",
            "\n",
            "   Prescription Sleep Medication  Race  Gender  \n",
            "0                              3     1       2  \n",
            "1                              3     1       1  \n",
            "2                              3     4       1  \n",
            "3                              3     4       2  \n",
            "4                              3     1       2  \n",
            "<class 'pandas.core.frame.DataFrame'>\n",
            "RangeIndex: 714 entries, 0 to 713\n",
            "Data columns (total 15 columns):\n",
            " #   Column                                      Non-Null Count  Dtype\n",
            "---  ------                                      --------------  -----\n",
            " 0   Number of Doctors Visited                   714 non-null    int64\n",
            " 1   Age                                         714 non-null    int64\n",
            " 2   Phyiscal Health                             714 non-null    int64\n",
            " 3   Mental Health                               714 non-null    int64\n",
            " 4   Dental Health                               714 non-null    int64\n",
            " 5   Employment                                  714 non-null    int64\n",
            " 6   Stress Keeps Patient from Sleeping          714 non-null    int64\n",
            " 7   Medication Keeps Patient from Sleeping      714 non-null    int64\n",
            " 8   Pain Keeps Patient from Sleeping            714 non-null    int64\n",
            " 9   Bathroom Needs Keeps Patient from Sleeping  714 non-null    int64\n",
            " 10  Uknown Keeps Patient from Sleeping          714 non-null    int64\n",
            " 11  Trouble Sleeping                            714 non-null    int64\n",
            " 12  Prescription Sleep Medication               714 non-null    int64\n",
            " 13  Race                                        714 non-null    int64\n",
            " 14  Gender                                      714 non-null    int64\n",
            "dtypes: int64(15)\n",
            "memory usage: 83.8 KB\n",
            "None\n"
          ]
        }
      ]
    },
    {
      "cell_type": "code",
      "source": [
        "# Checking for missing values\n",
        "print(data.isnull().sum())\n",
        "\n",
        "# In case, If there are missing values,replace IT WITH MEDIAN\n",
        "data.fillna(data.mean(), inplace=True)"
      ],
      "metadata": {
        "colab": {
          "base_uri": "https://localhost:8080/",
          "height": 0
        },
        "id": "2ejNeyS4_Opq",
        "outputId": "fa92943a-f3c4-4764-972d-9523bf0f5a66"
      },
      "execution_count": 164,
      "outputs": [
        {
          "output_type": "stream",
          "name": "stdout",
          "text": [
            "Number of Doctors Visited                     0\n",
            "Age                                           0\n",
            "Phyiscal Health                               0\n",
            "Mental Health                                 0\n",
            "Dental Health                                 0\n",
            "Employment                                    0\n",
            "Stress Keeps Patient from Sleeping            0\n",
            "Medication Keeps Patient from Sleeping        0\n",
            "Pain Keeps Patient from Sleeping              0\n",
            "Bathroom Needs Keeps Patient from Sleeping    0\n",
            "Uknown Keeps Patient from Sleeping            0\n",
            "Trouble Sleeping                              0\n",
            "Prescription Sleep Medication                 0\n",
            "Race                                          0\n",
            "Gender                                        0\n",
            "dtype: int64\n"
          ]
        }
      ]
    },
    {
      "cell_type": "markdown",
      "source": [
        "1. Prediction using Diff. ML Algorithm using 'Trouble Sleeping' as target variable\n"
      ],
      "metadata": {
        "id": "WSsagIAKGUy7"
      }
    },
    {
      "cell_type": "code",
      "source": [
        "# Selecting the target variable\n",
        "target_variable = 'Trouble Sleeping'\n",
        "\n",
        "# Use all columns except the target variable as features\n",
        "X = data.drop(target_variable, axis=1)\n",
        "y = data[target_variable]\n",
        "\n",
        "# Splitting the data into training and testing sets\n",
        "X_train, X_test, y_train, y_test = train_test_split(X, y, test_size=0.2, random_state=246)"
      ],
      "metadata": {
        "id": "wr54EX7Q_RRS"
      },
      "execution_count": 165,
      "outputs": []
    },
    {
      "cell_type": "code",
      "source": [
        "# scaling\n",
        "scaler = StandardScaler()\n",
        "X_train = scaler.fit_transform(X_train)\n",
        "X_test = scaler.transform(X_test)"
      ],
      "metadata": {
        "id": "DFm1LUisBaoj"
      },
      "execution_count": 166,
      "outputs": []
    },
    {
      "cell_type": "code",
      "source": [
        "# Logistic Regression\n",
        "logistic_model = LogisticRegression()\n",
        "logistic_model.fit(X_train, y_train)\n",
        "logistic_predictions = logistic_model.predict(X_test)\n",
        "print(\"FOR Logistic Regression:\")\n",
        "print(\"The Accuracy is:\", accuracy_score(y_test, logistic_predictions))\n",
        "print(\"Classification Report:\\n\", classification_report(y_test, logistic_predictions))\n"
      ],
      "metadata": {
        "colab": {
          "base_uri": "https://localhost:8080/",
          "height": 0
        },
        "id": "bffy2oLZENYA",
        "outputId": "3fc8ed51-c5ee-4eaa-870b-de450d5c1116"
      },
      "execution_count": 167,
      "outputs": [
        {
          "output_type": "stream",
          "name": "stdout",
          "text": [
            "FOR Logistic Regression:\n",
            "The Accuracy is: 0.6223776223776224\n",
            "Classification Report:\n",
            "               precision    recall  f1-score   support\n",
            "\n",
            "           1       0.75      0.25      0.38        12\n",
            "           2       0.59      0.44      0.50        59\n",
            "           3       0.63      0.83      0.72        72\n",
            "\n",
            "    accuracy                           0.62       143\n",
            "   macro avg       0.66      0.51      0.53       143\n",
            "weighted avg       0.62      0.62      0.60       143\n",
            "\n"
          ]
        }
      ]
    },
    {
      "cell_type": "code",
      "source": [
        "probabilities = logistic_model.predict_proba(X_test)[:, 1]\n",
        "\n",
        "# Plotting the results\n",
        "plt.figure(figsize=(8, 6))\n",
        "sns.scatterplot(x=range(len(y_test)), y=probabilities, hue=y_test, palette='viridis', marker='o')\n",
        "plt.axhline(y=0.5, color='green', linestyle='-.', label='Decision Boundary')\n",
        "plt.xlabel('Sample Index')\n",
        "plt.ylabel('Predicted Probability')\n",
        "plt.title('LogReg - Predicted Probabilities')\n",
        "plt.legend()\n",
        "plt.show()"
      ],
      "metadata": {
        "colab": {
          "base_uri": "https://localhost:8080/",
          "height": 564
        },
        "id": "7GQRJGUfEttc",
        "outputId": "5fecaed3-37e0-4aa3-b6a1-58100c2a3443"
      },
      "execution_count": 168,
      "outputs": [
        {
          "output_type": "display_data",
          "data": {
            "text/plain": [
              "<Figure size 800x600 with 1 Axes>"
            ],
            "image/png": "[encoded data removed]"
          },
          "metadata": {}
        }
      ]
    },
    {
      "cell_type": "code",
      "source": [
        "# K-Nearest Neighbors\n",
        "knn_model = KNeighborsClassifier()\n",
        "knn_model.fit(X_train, y_train)\n",
        "knn_predictions = knn_model.predict(X_test)\n",
        "print(\"\\nK-Nearest Neighbors:\")\n",
        "print(\"Accuracy:\", accuracy_score(y_test, knn_predictions))\n",
        "print(\"Classification Report:\\n\", classification_report(y_test, knn_predictions))"
      ],
      "metadata": {
        "colab": {
          "base_uri": "https://localhost:8080/",
          "height": 0
        },
        "id": "KuKPDNE3EVkP",
        "outputId": "1d757276-1d4b-431e-db2a-6e4b647ab26d"
      },
      "execution_count": 169,
      "outputs": [
        {
          "output_type": "stream",
          "name": "stdout",
          "text": [
            "\n",
            "K-Nearest Neighbors:\n",
            "Accuracy: 0.5524475524475524\n",
            "Classification Report:\n",
            "               precision    recall  f1-score   support\n",
            "\n",
            "           1       0.60      0.25      0.35        12\n",
            "           2       0.48      0.49      0.49        59\n",
            "           3       0.60      0.65      0.63        72\n",
            "\n",
            "    accuracy                           0.55       143\n",
            "   macro avg       0.56      0.46      0.49       143\n",
            "weighted avg       0.55      0.55      0.55       143\n",
            "\n"
          ]
        }
      ]
    },
    {
      "cell_type": "code",
      "source": [
        "# SUPPORT VECTOR MACHINE\n",
        "svm_model = SVC()\n",
        "svm_model.fit(X_train, y_train)\n",
        "svm_predictions = svm_model.predict(X_test)\n",
        "print(\"\\nSupport Vector Machine:\")\n",
        "print(\"Accuracy:\", accuracy_score(y_test, svm_predictions))\n",
        "print(\"Classification Report:\\n\", classification_report(y_test, svm_predictions))"
      ],
      "metadata": {
        "colab": {
          "base_uri": "https://localhost:8080/",
          "height": 0
        },
        "id": "CcACNrJ7EVva",
        "outputId": "3afb084e-bb4d-4286-d390-5f5842275bb8"
      },
      "execution_count": 170,
      "outputs": [
        {
          "output_type": "stream",
          "name": "stdout",
          "text": [
            "\n",
            "Support Vector Machine:\n",
            "Accuracy: 0.5874125874125874\n",
            "Classification Report:\n",
            "               precision    recall  f1-score   support\n",
            "\n",
            "           1       1.00      0.17      0.29        12\n",
            "           2       0.52      0.39      0.45        59\n",
            "           3       0.61      0.82      0.70        72\n",
            "\n",
            "    accuracy                           0.59       143\n",
            "   macro avg       0.71      0.46      0.48       143\n",
            "weighted avg       0.61      0.59      0.56       143\n",
            "\n"
          ]
        }
      ]
    },
    {
      "cell_type": "code",
      "source": [
        "# DECISION TREE\n",
        "dt_model = DecisionTreeClassifier()\n",
        "dt_model.fit(X_train, y_train)\n",
        "dt_predictions = dt_model.predict(X_test)\n",
        "print(\"\\nDecision Tree:\")\n",
        "print(\"THE Accuracy IS:\", accuracy_score(y_test, dt_predictions))\n",
        "print(\"The Classification Report:\\n\", classification_report(y_test, dt_predictions))"
      ],
      "metadata": {
        "colab": {
          "base_uri": "https://localhost:8080/",
          "height": 0
        },
        "id": "UZTAmCEREV_C",
        "outputId": "5a0673df-8815-465f-96ce-56241c6baff2"
      },
      "execution_count": 171,
      "outputs": [
        {
          "output_type": "stream",
          "name": "stdout",
          "text": [
            "\n",
            "Decision Tree:\n",
            "THE Accuracy IS: 0.45454545454545453\n",
            "The Classification Report:\n",
            "               precision    recall  f1-score   support\n",
            "\n",
            "          -1       0.00      0.00      0.00         0\n",
            "           1       0.15      0.17      0.16        12\n",
            "           2       0.43      0.42      0.43        59\n",
            "           3       0.54      0.53      0.54        72\n",
            "\n",
            "    accuracy                           0.45       143\n",
            "   macro avg       0.28      0.28      0.28       143\n",
            "weighted avg       0.46      0.45      0.46       143\n",
            "\n"
          ]
        },
        {
          "output_type": "stream",
          "name": "stderr",
          "text": [
            "/usr/local/lib/python3.10/dist-packages/sklearn/metrics/_classification.py:1344: UndefinedMetricWarning: Recall and F-score are ill-defined and being set to 0.0 in labels with no true samples. Use `zero_division` parameter to control this behavior.\n",
            "  _warn_prf(average, modifier, msg_start, len(result))\n",
            "/usr/local/lib/python3.10/dist-packages/sklearn/metrics/_classification.py:1344: UndefinedMetricWarning: Recall and F-score are ill-defined and being set to 0.0 in labels with no true samples. Use `zero_division` parameter to control this behavior.\n",
            "  _warn_prf(average, modifier, msg_start, len(result))\n",
            "/usr/local/lib/python3.10/dist-packages/sklearn/metrics/_classification.py:1344: UndefinedMetricWarning: Recall and F-score are ill-defined and being set to 0.0 in labels with no true samples. Use `zero_division` parameter to control this behavior.\n",
            "  _warn_prf(average, modifier, msg_start, len(result))\n"
          ]
        }
      ]
    },
    {
      "cell_type": "markdown",
      "source": [
        "2. Prediction using Diff. ML Algorithm using 'Mental Health' as target variable"
      ],
      "metadata": {
        "id": "KWoP7LQXGoq2"
      }
    },
    {
      "cell_type": "code",
      "source": [
        "# Specify the target variable\n",
        "target_variable = 'Mental Health'\n",
        "\n",
        "# Use all columns except the target variable as features\n",
        "X = data.drop(target_variable, axis=1)\n",
        "y = data[target_variable]\n",
        "\n",
        "# Split the data into training and testing sets\n",
        "X_train, X_test, y_train, y_test = train_test_split(X, y, test_size=0.2, random_state=136)\n",
        "\n",
        "\n",
        "# Standardize features\n",
        "scaler = StandardScaler()\n",
        "X_train = scaler.fit_transform(X_train)\n",
        "X_test = scaler.transform(X_test)"
      ],
      "metadata": {
        "id": "xTNrB8y6Fcvr"
      },
      "execution_count": 172,
      "outputs": []
    },
    {
      "cell_type": "code",
      "source": [
        "# Logistic Regression\n",
        "logistic_model = LogisticRegression()\n",
        "logistic_model.fit(X_train, y_train)\n",
        "logistic_predictions = logistic_model.predict(X_test)\n",
        "print(\"Logistic Regression:\")\n",
        "print(\"Accuracy:\", accuracy_score(y_test, logistic_predictions))\n",
        "print(\"Classification Report:\\n\", classification_report(y_test, logistic_predictions))\n"
      ],
      "metadata": {
        "colab": {
          "base_uri": "https://localhost:8080/",
          "height": 0
        },
        "id": "Mv4TRZXwFj3U",
        "outputId": "d6125484-f90d-4fba-cd73-a800e5ffbec4"
      },
      "execution_count": 173,
      "outputs": [
        {
          "output_type": "stream",
          "name": "stdout",
          "text": [
            "Logistic Regression:\n",
            "Accuracy: 0.43356643356643354\n",
            "Classification Report:\n",
            "               precision    recall  f1-score   support\n",
            "\n",
            "          -1       0.00      0.00      0.00         1\n",
            "           1       0.48      0.44      0.46        34\n",
            "           2       0.44      0.62      0.51        58\n",
            "           3       0.38      0.26      0.31        39\n",
            "           4       0.25      0.09      0.13        11\n",
            "\n",
            "    accuracy                           0.43       143\n",
            "   macro avg       0.31      0.28      0.28       143\n",
            "weighted avg       0.42      0.43      0.41       143\n",
            "\n"
          ]
        },
        {
          "output_type": "stream",
          "name": "stderr",
          "text": [
            "/usr/local/lib/python3.10/dist-packages/sklearn/metrics/_classification.py:1344: UndefinedMetricWarning: Precision and F-score are ill-defined and being set to 0.0 in labels with no predicted samples. Use `zero_division` parameter to control this behavior.\n",
            "  _warn_prf(average, modifier, msg_start, len(result))\n",
            "/usr/local/lib/python3.10/dist-packages/sklearn/metrics/_classification.py:1344: UndefinedMetricWarning: Precision and F-score are ill-defined and being set to 0.0 in labels with no predicted samples. Use `zero_division` parameter to control this behavior.\n",
            "  _warn_prf(average, modifier, msg_start, len(result))\n",
            "/usr/local/lib/python3.10/dist-packages/sklearn/metrics/_classification.py:1344: UndefinedMetricWarning: Precision and F-score are ill-defined and being set to 0.0 in labels with no predicted samples. Use `zero_division` parameter to control this behavior.\n",
            "  _warn_prf(average, modifier, msg_start, len(result))\n"
          ]
        }
      ]
    },
    {
      "cell_type": "code",
      "source": [
        "\n",
        "# K-Nearest Neighbors\n",
        "knn_model = KNeighborsClassifier()\n",
        "knn_model.fit(X_train, y_train)\n",
        "knn_predictions = knn_model.predict(X_test)\n",
        "print(\"\\nK-Nearest Neighbors:\")\n",
        "print(\"Accuracy:\", accuracy_score(y_test, knn_predictions))\n",
        "print(\"Classification Report:\\n\", classification_report(y_test, knn_predictions))\n",
        "\n"
      ],
      "metadata": {
        "colab": {
          "base_uri": "https://localhost:8080/",
          "height": 0
        },
        "id": "5Qb8w_55OHRt",
        "outputId": "3494e58c-1b22-4789-cf07-d945726dfc89"
      },
      "execution_count": 174,
      "outputs": [
        {
          "output_type": "stream",
          "name": "stdout",
          "text": [
            "\n",
            "K-Nearest Neighbors:\n",
            "Accuracy: 0.3776223776223776\n",
            "Classification Report:\n",
            "               precision    recall  f1-score   support\n",
            "\n",
            "          -1       0.00      0.00      0.00         1\n",
            "           1       0.28      0.44      0.34        34\n",
            "           2       0.41      0.48      0.44        58\n",
            "           3       0.55      0.28      0.37        39\n",
            "           4       0.00      0.00      0.00        11\n",
            "\n",
            "    accuracy                           0.38       143\n",
            "   macro avg       0.25      0.24      0.23       143\n",
            "weighted avg       0.38      0.38      0.36       143\n",
            "\n"
          ]
        },
        {
          "output_type": "stream",
          "name": "stderr",
          "text": [
            "/usr/local/lib/python3.10/dist-packages/sklearn/metrics/_classification.py:1344: UndefinedMetricWarning: Precision and F-score are ill-defined and being set to 0.0 in labels with no predicted samples. Use `zero_division` parameter to control this behavior.\n",
            "  _warn_prf(average, modifier, msg_start, len(result))\n",
            "/usr/local/lib/python3.10/dist-packages/sklearn/metrics/_classification.py:1344: UndefinedMetricWarning: Precision and F-score are ill-defined and being set to 0.0 in labels with no predicted samples. Use `zero_division` parameter to control this behavior.\n",
            "  _warn_prf(average, modifier, msg_start, len(result))\n",
            "/usr/local/lib/python3.10/dist-packages/sklearn/metrics/_classification.py:1344: UndefinedMetricWarning: Precision and F-score are ill-defined and being set to 0.0 in labels with no predicted samples. Use `zero_division` parameter to control this behavior.\n",
            "  _warn_prf(average, modifier, msg_start, len(result))\n"
          ]
        }
      ]
    },
    {
      "cell_type": "code",
      "source": [
        "# Support Vector Machine\n",
        "svm_model = SVC()\n",
        "svm_model.fit(X_train, y_train)\n",
        "svm_predictions = svm_model.predict(X_test)\n",
        "print(\"\\nSupport Vector Machine:\")\n",
        "print(\"Accuracy:\", accuracy_score(y_test, svm_predictions))\n",
        "print(\"Classification Report:\\n\", classification_report(y_test, svm_predictions))\n"
      ],
      "metadata": {
        "colab": {
          "base_uri": "https://localhost:8080/",
          "height": 0
        },
        "id": "FZkzD9r9OJe2",
        "outputId": "182709db-98c1-4c36-ecf8-026fecd25b08"
      },
      "execution_count": 175,
      "outputs": [
        {
          "output_type": "stream",
          "name": "stdout",
          "text": [
            "\n",
            "Support Vector Machine:\n",
            "Accuracy: 0.4405594405594406\n",
            "Classification Report:\n",
            "               precision    recall  f1-score   support\n",
            "\n",
            "          -1       0.00      0.00      0.00         1\n",
            "           1       0.41      0.38      0.39        34\n",
            "           2       0.44      0.66      0.53        58\n",
            "           3       0.48      0.31      0.38        39\n",
            "           4       0.00      0.00      0.00        11\n",
            "\n",
            "    accuracy                           0.44       143\n",
            "   macro avg       0.27      0.27      0.26       143\n",
            "weighted avg       0.41      0.44      0.41       143\n",
            "\n"
          ]
        },
        {
          "output_type": "stream",
          "name": "stderr",
          "text": [
            "/usr/local/lib/python3.10/dist-packages/sklearn/metrics/_classification.py:1344: UndefinedMetricWarning: Precision and F-score are ill-defined and being set to 0.0 in labels with no predicted samples. Use `zero_division` parameter to control this behavior.\n",
            "  _warn_prf(average, modifier, msg_start, len(result))\n",
            "/usr/local/lib/python3.10/dist-packages/sklearn/metrics/_classification.py:1344: UndefinedMetricWarning: Precision and F-score are ill-defined and being set to 0.0 in labels with no predicted samples. Use `zero_division` parameter to control this behavior.\n",
            "  _warn_prf(average, modifier, msg_start, len(result))\n",
            "/usr/local/lib/python3.10/dist-packages/sklearn/metrics/_classification.py:1344: UndefinedMetricWarning: Precision and F-score are ill-defined and being set to 0.0 in labels with no predicted samples. Use `zero_division` parameter to control this behavior.\n",
            "  _warn_prf(average, modifier, msg_start, len(result))\n"
          ]
        }
      ]
    },
    {
      "cell_type": "code",
      "source": [
        "\n",
        "# Decision Tree\n",
        "dt_model = DecisionTreeClassifier()\n",
        "dt_model.fit(X_train, y_train)\n",
        "dt_predictions = dt_model.predict(X_test)\n",
        "print(\"\\nDecision Tree:\")\n",
        "print(\"Accuracy:\", accuracy_score(y_test, dt_predictions))\n",
        "print(\"Classification Report:\\n\", classification_report(y_test, dt_predictions))"
      ],
      "metadata": {
        "colab": {
          "base_uri": "https://localhost:8080/",
          "height": 0
        },
        "id": "qg4fwUQzOLb0",
        "outputId": "ff359ae4-9d4a-41db-a3cc-5054a2b064b2"
      },
      "execution_count": 176,
      "outputs": [
        {
          "output_type": "stream",
          "name": "stdout",
          "text": [
            "\n",
            "Decision Tree:\n",
            "Accuracy: 0.3356643356643357\n",
            "Classification Report:\n",
            "               precision    recall  f1-score   support\n",
            "\n",
            "          -1       0.00      0.00      0.00         1\n",
            "           1       0.33      0.38      0.35        34\n",
            "           2       0.36      0.34      0.35        58\n",
            "           3       0.33      0.33      0.33        39\n",
            "           4       0.25      0.18      0.21        11\n",
            "\n",
            "    accuracy                           0.34       143\n",
            "   macro avg       0.25      0.25      0.25       143\n",
            "weighted avg       0.33      0.34      0.33       143\n",
            "\n"
          ]
        },
        {
          "output_type": "stream",
          "name": "stderr",
          "text": [
            "/usr/local/lib/python3.10/dist-packages/sklearn/metrics/_classification.py:1344: UndefinedMetricWarning: Precision and F-score are ill-defined and being set to 0.0 in labels with no predicted samples. Use `zero_division` parameter to control this behavior.\n",
            "  _warn_prf(average, modifier, msg_start, len(result))\n",
            "/usr/local/lib/python3.10/dist-packages/sklearn/metrics/_classification.py:1344: UndefinedMetricWarning: Precision and F-score are ill-defined and being set to 0.0 in labels with no predicted samples. Use `zero_division` parameter to control this behavior.\n",
            "  _warn_prf(average, modifier, msg_start, len(result))\n",
            "/usr/local/lib/python3.10/dist-packages/sklearn/metrics/_classification.py:1344: UndefinedMetricWarning: Precision and F-score are ill-defined and being set to 0.0 in labels with no predicted samples. Use `zero_division` parameter to control this behavior.\n",
            "  _warn_prf(average, modifier, msg_start, len(result))\n"
          ]
        }
      ]
    }
  ]
}